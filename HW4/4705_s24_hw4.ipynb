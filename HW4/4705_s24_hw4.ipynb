{
 "cells": [
  {
   "cell_type": "markdown",
   "id": "6703077a",
   "metadata": {},
   "source": [
    "# COMS W4705 Spring 24\n",
    "## Homework 4 - Semantic Role Labelling with BERT\n",
    "\n",
    "The goal of this assignment is to train and evaluate a PropBank-style semantic role labeling (SRL) system. Following (Collobert et al. 2011) and others, we will treat this problem as a sequence-labeling task. For each input token, the system will predict a B-I-O tag, as illustrated in the following example: \n",
    "\n",
    "|The|judge|scheduled|to|preside|over|his|trial|was|removed|from|the|case|today|.|             \n",
    "|---|-----|---------|--|-------|----|---|-----|---|-------|----|---|----|-----|-|             \n",
    "|B-ARG1|I-ARG1|B-V|B-ARG2|I-ARG2|I-ARG2|I-ARG2|I-ARG2|O|O|O|O|O|O|O|\n",
    "|||schedule.01|||||||||||||\n",
    "\n",
    "Note that the same sentence may have multiple annotations for different predicates\n",
    "\n",
    "|The|judge|scheduled|to|preside|over|his|trial|was|removed|from|the|case|today|.|             \n",
    "|---|-----|---------|--|-------|----|---|-----|---|-------|----|---|----|-----|-|             \n",
    "|B-ARG1|I-ARG1|I-ARG1|I-ARG1|I-ARG1|I-ARG1|I-ARG1|I-ARG1|O|B-V|B-ARG2|I-ARG2|I-ARG2|B-ARGM-TMP|O|\n",
    "||||||||||remove.01||||||\n",
    "\n",
    "and not all predicates need to be verbs\n",
    "\n",
    "|The|judge|scheduled|to|preside|over|his|trial|was|removed|from|the|case|today|.|             \n",
    "|---|-----|---------|--|-------|----|---|-----|---|-------|----|---|----|-----|-|    \n",
    "|O|O|O|O|O|O|B-ARG1|B-V|O|O|O|O|O|O|O|\n",
    "||||||||try.02||||||||\n",
    "\n",
    "The SRL system will be implemented in [PyTorch](https://pytorch.org/). We will use BERT (in the implementation provided by the [Huggingface transformers](https://huggingface.co/docs/transformers/index) library) to compute contextualized token representations and a custom classification head to predict semantic roles. We will fine-tune the pretrained BERT model on the SRL task. \n"
   ]
  },
  {
   "cell_type": "markdown",
   "id": "ff12fe94",
   "metadata": {},
   "source": [
    "### Overview of the Approach\n",
    "\n",
    "The model we will train is pretty straightforward. Essentially, we will just encode the sentence with BERT, then take the contextualized embedding for each token and feed it into a classifier to predict the corresponding tag. \n",
    "\n",
    "Because we are only working on argument identification and labeling (not predicate identification), it is essentially that we tell the model where the predicate is. This can be accomplished in various ways. The approach we will choose here repurposes Bert's *segment embeddings*. \n",
    "\n",
    "Recall that BERT is trained on two input sentences, seperated by [SEP], and on a next-sentence-prediction objective (in addition to the masked LM objective). To help BERT comprehend which sentence a given token belongs to, the original BERT uses a segment embedding, using A for the first sentene, and B for the second sentence 2. \n",
    "Because we are labeling only a single sentence at a time, we can use the segment embeddings to indicate the predicate position instead: The predicate is labeled as segment B (1) and all other tokens will be labeled as segment A (0). \n",
    "\n",
    "<img src=\"https://github.com/daniel-bauer/4705-f23-hw5/blob/main/bert_srl_model.png?raw=true\" width=400px>"
   ]
  },
  {
   "cell_type": "markdown",
   "id": "68325e53",
   "metadata": {},
   "source": [
    "## Setup: GCP, Jupyter, PyTorch, GPU\n",
    "\n",
    "To make sure that PyTorch is available and can use the GPU,run the following cell which should return True. If it doesn't, make sure the GPU drivers and CUDA are installed correctly. \n",
    "\n",
    "GPU support is required for this assignment -- you will not be able to fine-tune BERT on a CPU. "
   ]
  },
  {
   "cell_type": "code",
   "execution_count": 3,
   "id": "aad94eef",
   "metadata": {},
   "outputs": [
    {
     "name": "stdout",
     "output_type": "stream",
     "text": [
      "Requirement already satisfied: torch in /Users/sharmistashastry/Desktop/Self Projects/ML Projects/env/lib/python3.11/site-packages (2.3.0)\r\n",
      "Requirement already satisfied: filelock in /Users/sharmistashastry/Desktop/Self Projects/ML Projects/env/lib/python3.11/site-packages (from torch) (3.14.0)\r\n",
      "Requirement already satisfied: typing-extensions>=4.8.0 in /Users/sharmistashastry/Desktop/Self Projects/ML Projects/env/lib/python3.11/site-packages (from torch) (4.11.0)\r\n",
      "Requirement already satisfied: sympy in /Users/sharmistashastry/Desktop/Self Projects/ML Projects/env/lib/python3.11/site-packages (from torch) (1.12)\r\n",
      "Requirement already satisfied: networkx in /Users/sharmistashastry/Desktop/Self Projects/ML Projects/env/lib/python3.11/site-packages (from torch) (3.3)\r\n",
      "Requirement already satisfied: jinja2 in /Users/sharmistashastry/Desktop/Self Projects/ML Projects/env/lib/python3.11/site-packages (from torch) (3.1.2)\r\n",
      "Requirement already satisfied: fsspec in /Users/sharmistashastry/Desktop/Self Projects/ML Projects/env/lib/python3.11/site-packages (from torch) (2024.3.1)\r\n",
      "Requirement already satisfied: MarkupSafe>=2.0 in /Users/sharmistashastry/Desktop/Self Projects/ML Projects/env/lib/python3.11/site-packages (from jinja2->torch) (2.1.1)\r\n",
      "Requirement already satisfied: mpmath>=0.19 in /Users/sharmistashastry/Desktop/Self Projects/ML Projects/env/lib/python3.11/site-packages (from sympy->torch) (1.3.0)\r\n"
     ]
    },
    {
     "data": {
      "text/plain": [
       "False"
      ]
     },
     "execution_count": 3,
     "metadata": {},
     "output_type": "execute_result"
    }
   ],
   "source": [
    "!pip install torch\n",
    "import torch\n",
    "torch.cuda.is_available() "
   ]
  },
  {
   "cell_type": "markdown",
   "id": "3fe1c8ac",
   "metadata": {},
   "source": [
    "## Dataset: Ontonotes 5.0 English SRL annotations\n",
    "\n",
    "We will work with the English part of the [Ontonotes 5.0](https://catalog.ldc.upenn.edu/LDC2013T19) data. This is an extension of PropBank, using the same type of annotation. Ontonotes contains annotations other than predicate/argument structures, but we will use the PropBank style SRL annotations only. *Important*: This data set is provided to you for use in COMS 4705 only! Columbia is a subscriber to LDC and is allowed to use the data for educational purposes. However, you may not use the dataset in projects unrelated to Columbia teaching or research.\n",
    "\n",
    "If you haven't done so already, you can download the data here: \n"
   ]
  },
  {
   "cell_type": "code",
   "execution_count": null,
   "id": "0c2f2645",
   "metadata": {},
   "outputs": [],
   "source": [
    "! wget https://storage.googleapis.com/4705-bert-srl-data/ontonotes_srl.zip    "
   ]
  },
  {
   "cell_type": "code",
   "execution_count": null,
   "id": "14aad58e",
   "metadata": {},
   "outputs": [],
   "source": [
    "! unzip ontonotes_srl.zip    "
   ]
  },
  {
   "cell_type": "markdown",
   "id": "8cae08a9",
   "metadata": {},
   "source": [
    "The data has been pre-processed in the following format. There are three files: \n",
    "\n",
    "`propbank_dev.tsv`\t`propbank_test.tsv`\t`propbank_train.tsv`\n",
    "\n",
    "Each of these files is in a tab-separated value format. A single predicate/argument structure annotation consists of four rows. For example \n",
    "\n",
    "```\n",
    "ontonotes/bc/cnn/00/cnn_0000.152.1\n",
    "The     judge   scheduled       to      preside over    his     trial   was     removed from    the     case    today   /.\n",
    "                schedule.01\n",
    "B-ARG1  I-ARG1  B-V     B-ARG2  I-ARG2  I-ARG2  I-ARG2  I-ARG2  O       O       O       O       O       O       O\n",
    "```\n",
    "\n",
    "* The first row is a unique identifier (1st annotation of the 152nd sentence in the file ontonotes/bc/cnn/00/cnn_0000).\n",
    "* The second row contains the tokens of the sentence (tab-separated). \n",
    "* The third row contains the probank frame name for the predicate (empty field for all other tokens). \n",
    "* The fourth row contains the B-I-O tag for each token. \n",
    "\n",
    "The file `rolelist.txt` contains a list of propbank BIO labels in the dataset (i.e. possible output tokens). This list has been filtered to contain only roles that appeared more than 1000 times in the training data. \n",
    "We will load this list and create mappings from numeric ids to BIO tags and back."
   ]
  },
  {
   "cell_type": "code",
   "execution_count": null,
   "id": "dc4c027a",
   "metadata": {},
   "outputs": [],
   "source": [
    "role_to_id = {}\n",
    "with open(\"role_list.txt\",'r') as f:\n",
    "    role_list = [x.strip() for x in f.readlines()]\n",
    "    role_to_id = dict((role, index) for (index, role) in enumerate(role_list))\n",
    "    role_to_id['[PAD]'] = -100\n",
    "    \n",
    "    id_to_role = dict((index, role) for (role, index) in role_to_id.items())\n",
    "    "
   ]
  },
  {
   "cell_type": "markdown",
   "id": "f07cdf31",
   "metadata": {},
   "source": [
    "Note that we are also mapping the '[PAD]' token to the value -100. This allows the loss function to ignore these tokens during training."
   ]
  },
  {
   "cell_type": "markdown",
   "id": "88096be5",
   "metadata": {},
   "source": [
    "\n",
    "\n"
   ]
  },
  {
   "cell_type": "markdown",
   "id": "aae727bf",
   "metadata": {},
   "source": [
    "## Part 1 - Data Preparation\n",
    "\n",
    "Before you can build the SRL model, you first need to preprocess the data. \n",
    "\n",
    "\n",
    "### 1.1 - Tokenization \n",
    "\n",
    "One challenge is that the pre-trained BERT model uses subword (\"WordPiece\") tokenization, but the Ontonotes data does not. Fortunately Huggingface transformers provides a tokenizer. "
   ]
  },
  {
   "cell_type": "code",
   "execution_count": null,
   "id": "8a2d7d03",
   "metadata": {},
   "outputs": [],
   "source": [
    "from transformers import BertTokenizerFast \n",
    "tokenizer = BertTokenizerFast.from_pretrained('bert-base-uncased', do_lower_case=True)\n",
    "tokenizer.tokenize(\"This is an unbelievably boring test sentence.\")"
   ]
  },
  {
   "cell_type": "markdown",
   "id": "ac1924bd",
   "metadata": {},
   "source": [
    "**TODO**: \n",
    "We need to be able to maintain the correct labels (B-I-O tags) for each of the subwords. \n",
    "Complete the following function that takes a list of tokens and a list of B-I-O labels of the same length as parameters, and returns a new token / label pair, as illustrated in the following example. \n",
    "\n",
    "\n",
    "```\n",
    ">>> tokenize_with_labels(\"the fancyful penguin devoured yummy fish .\".split(), \"B-ARG0 I-ARG0 I-ARG0 B-V B-ARG1 I-ARG1 O\".split(), tokenizer)\n",
    "(['the',\n",
    "  'fancy',\n",
    "  '##ful',\n",
    "  'penguin',\n",
    "  'dev',\n",
    "  '##oured',\n",
    "  'yu',\n",
    "  '##mmy',\n",
    "  'fish',\n",
    "  '.'],\n",
    " ['B-ARG0',\n",
    "  'I-ARG0',\n",
    "  'I-ARG0',\n",
    "  'I-ARG0',\n",
    "  'B-V',\n",
    "  'I-V',\n",
    "  'B-ARG1',\n",
    "  'I-ARG1',\n",
    "  'I-ARG1',\n",
    "  'O'])\n",
    "\n",
    "```\n",
    "\n",
    "To approach this problem, iterate through each word/label pair in the sentence. Call the tokenizer on the word. This may result in one or more tokens. Create the correct number of labels to match the number of tokens. Take care to not generate multiple B- tokens. \n",
    "\n",
    "\n",
    "This approach is a bit slower than tokenizing the entire sentence, but is necessary to produce proper input tokenization for the pre-trained BERT model, and the matching target labels. "
   ]
  },
  {
   "cell_type": "code",
   "execution_count": 2,
   "id": "8140fc39",
   "metadata": {},
   "outputs": [],
   "source": [
    "def tokenize_with_labels(sentence, text_labels, tokenizer):\n",
    "    \"\"\"\n",
    "    Word piece tokenization makes it difficult to match word labels\n",
    "    back up with individual word pieces. \n",
    "    \"\"\"\n",
    "\n",
    "    tokenized_sentence = []\n",
    "    labels = []\n",
    "    \n",
    "    for word, label in zip(sentence, text_labels):\n",
    "\n",
    "      pass # complete this loop\n",
    "\n",
    "    return tokenized_sentence, labels"
   ]
  },
  {
   "cell_type": "code",
   "execution_count": null,
   "id": "f748d120",
   "metadata": {},
   "outputs": [],
   "source": [
    "tokenize_with_labels(\"the fancyful penguin devoured yummy fish .\".split(), \"B-ARG0 I-ARG0 I-ARG0 B-V B-ARG1 I-ARG1 O\".split(), tokenizer)"
   ]
  },
  {
   "cell_type": "markdown",
   "id": "77bb9076",
   "metadata": {},
   "source": [
    "### 1.2 Loading the Dataset\n",
    "\n",
    "Next, we are creating a PyTorch [Dataset](https://pytorch.org/docs/stable/data.html#torch.utils.data.Dataset) class. This class acts as a contained for the training, development, and testing data in memory. You should already be familiar with Datasets and Dataloaders from homework 3. \n",
    "\n",
    "1.2.1 **TODO**: Write the \\_\\_init\\_\\_(self, filename) method that reads in the data from a data file (specified by the filename).\n",
    "\n",
    "For each annotation you start with  the tokens in the sentence, and the BIO tags. Then you need to create the following \n",
    "\n",
    "1. call the `tokenize_with_labels` function to tokenize the sentence.\n",
    "2. Add the (token, label) pair to the self.items list. \n",
    "\n",
    "1.2.2 **TODO**: Write the \\_\\_len\\_\\_(self) method that returns the total number of items. \n",
    "\n",
    "1.2.3 **TODO**: Write the \\_\\_getitem\\_\\_(self, k) method that returns a single item in a format BERT will understand. \n",
    "* We need to process the sentence by adding \"\\[CLS\\]\" as the first token and \"\\[SEP\\]\" as the last token. The need to pad the token sequence to 128 tokens using the \"\\[PAD\\]\" symbol. This needs to happen both for the inputs (sentence token sequence) and outputs (BIO tag sequence).\n",
    "* We need to create an *attention mask*, which is a sequence of 128 tokens indicating the actual input symbols (as a 1) and \\[PAD\\] symbols (as a 0).\n",
    "* We need to create a *predicate indicator* mask, which is a sequence of 128 tokens with at most one 1, in the position of the \"B-V\" tag. All other entries should be 0. The model will use this information to understand where the predicate is located. \n",
    "\n",
    "* Finally, we need to convert the token and tag sequence into numeric indices. For the tokens, this can be done using the `tokenizer.convert_tokens_to_ids` method. For the tags, use the `role_to_id` dictionary. \n",
    "Each sequence must be a pytorch tensor of shape (1,128). You can convert a list of integer values like this `torch.tensor(token_ids, dtype=torch.long)`.\n",
    "\n",
    "To keep everything organized, we will return a dictionary in the following format \n",
    "\n",
    "```\n",
    "{'ids': token_tensor,\n",
    " 'targets': tag_tensor,\n",
    " 'mask': attention_mask_tensor,\n",
    " 'pred': predicate_indicator_tensor}\n",
    "```\n",
    "\n",
    "\n",
    "(Hint: To debug these, read in the first annotation only / the first few annotations) \n"
   ]
  },
  {
   "cell_type": "code",
   "execution_count": null,
   "id": "9f5bd32f",
   "metadata": {},
   "outputs": [],
   "source": [
    "from torch.utils.data import Dataset, DataLoader \n",
    "\n",
    "class SrlData(Dataset):\n",
    "    \n",
    "    def __init__(self, filename):\n",
    "\n",
    "        super(SrlData, self).__init__()\n",
    "        \n",
    "        self.max_len = 128 # the max number of tokens inputted to the transformer. \n",
    "        \n",
    "        self.tokenizer = BertTokenizerFast.from_pretrained('bert-base-uncased', do_lower_case=True)        \n",
    "        \n",
    "        self.items = []\n",
    "        # complete this method \n",
    "                                                        \n",
    "    def __len__(self):\n",
    "        return 0 # replace\n",
    "    \n",
    "    def __getitem__(self, k):\n",
    "        \n",
    "        \n",
    "        #complete this method \n",
    "        return {'ids': #token_tensor,\n",
    "                'mask':  #attn_mask, \n",
    "                'targets': #label_tensor, \n",
    "                'pred': #pred_tensor\n",
    "               }\n",
    "        "
   ]
  },
  {
   "cell_type": "code",
   "execution_count": null,
   "id": "da0b476d",
   "metadata": {},
   "outputs": [],
   "source": [
    "# Reading the training data takes a while for the entire data because we preprocess all data offline\n",
    "data = SrlData(\"propbank_train.tsv\")"
   ]
  },
  {
   "cell_type": "markdown",
   "id": "0730aff9",
   "metadata": {},
   "source": [
    "## 2. Model Definition"
   ]
  },
  {
   "cell_type": "code",
   "execution_count": 3,
   "id": "cb11f9c0",
   "metadata": {},
   "outputs": [
    {
     "name": "stderr",
     "output_type": "stream",
     "text": [
      "/Users/daniel/miniconda3/lib/python3.9/site-packages/requests/__init__.py:102: RequestsDependencyWarning: urllib3 (1.26.9) or chardet (5.2.0)/charset_normalizer (2.0.4) doesn't match a supported version!\n",
      "  warnings.warn(\"urllib3 ({}) or chardet ({})/charset_normalizer ({}) doesn't match a supported \"\n"
     ]
    }
   ],
   "source": [
    "from torch.nn import Module, Linear, CrossEntropyLoss\n",
    "from transformers import BertModel"
   ]
  },
  {
   "cell_type": "markdown",
   "id": "da684eff",
   "metadata": {},
   "source": [
    "We will define the pyTorch model as a subclass of the [torch.nn.Module](https://pytorch.org/docs/stable/generated/torch.nn.Module.html) class. The code for the model is provided for you. It may help to take a look at the documentation to remind you of how Module works. Take a look at how the huggingface BERT model simply becomes another sub-module. "
   ]
  },
  {
   "cell_type": "code",
   "execution_count": null,
   "id": "37515695",
   "metadata": {},
   "outputs": [],
   "source": [
    "class SrlModel(Module):\n",
    "    \n",
    "    def __init__(self):\n",
    "        \n",
    "        super(SrlModel, self).__init__()\n",
    "        \n",
    "        self.encoder = BertModel.from_pretrained(\"bert-base-uncased\")\n",
    "    \n",
    "        # The following two lines would freeze the BERT parameters and allow us to train the classifier by itself.\n",
    "        # We are fine-tuning the model, so you can leave this commented out!\n",
    "        # for param in self.encoder.parameters():\n",
    "        #    param.requires_grad = False\n",
    "        \n",
    "        # The linear classifier head, see model figure in the introduction. \n",
    "        self.classifier = Linear(768, len(role_to_id))\n",
    "                \n",
    "        \n",
    "    def forward(self, input_ids, attn_mask, pred_indicator):\n",
    "    \n",
    "        # This defines the flow of data through the model \n",
    "    \n",
    "        # Note the use of the \"token type ids\" which represents the segment encoding explained in the introduction. \n",
    "        # In our segment encoding, 1 indicates the predicate, and 0 indicates everything else. \n",
    "        bert_output =  self.encoder(input_ids=input_ids, attention_mask=attn_mask, token_type_ids=pred_indicator)\n",
    "\n",
    "        enc_tokens = bert_output[0] # the result of encoding the input with BERT\n",
    "        logits = self.classifier(enc_tokens) #feed into the classification layer to produce scores for each tag.\n",
    "        \n",
    "        # Note that we are only interested in the argmax for each token, so we do not have to normalize \n",
    "        # to a probability distribution using softmax. The CrossEntropyLoss loss function takes this into account.\n",
    "        # It essentially computes the softmax first and then computes the negative log-likelihood for the target classes. \n",
    "        return logits        "
   ]
  },
  {
   "cell_type": "code",
   "execution_count": null,
   "id": "ba23ec3f",
   "metadata": {},
   "outputs": [],
   "source": [
    "model = SrlModel().to('cuda') # create new model and store weights in GPU memory"
   ]
  },
  {
   "cell_type": "markdown",
   "id": "9103d32e",
   "metadata": {},
   "source": [
    "Now we are ready to try running the model with just a single input example to check if it is working correctly. Clearly it has not been trained, so the output is not what we expect. But we can see what the loss looks like for an initial sanity check. \n",
    "\n",
    "**TODO**: \n",
    "* Take a single data item from the dev set, as provided by your Dataset class defined above. Obtain the input token ids, attention mask, predicate indicator mask, and target labels. \n",
    "* Run the model on the ids, attention mask, and predicate mask like this: "
   ]
  },
  {
   "cell_type": "code",
   "execution_count": null,
   "id": "f1805480",
   "metadata": {},
   "outputs": [],
   "source": [
    "# pick an item from the dataset. Then run \n",
    "\n",
    "outputs = model(ids, mask, pred)"
   ]
  },
  {
   "cell_type": "markdown",
   "id": "cd7fd38b",
   "metadata": {},
   "source": [
    "**TODO**: \n",
    "Compute the loss on this one item only.\n",
    "The initial loss should be close to -ln(1/num_labels)\n",
    "\n",
    "Without training we would assume that all labels for each token (including the target label) are equally likely, so the negative log probability for the targets should be approximately $$-\\ln(\\frac{1}{\\text{num_labels}}).$$ This is what the loss function should return on a single example. This is a good sanity check to run for any multi-class prediction problem. "
   ]
  },
  {
   "cell_type": "code",
   "execution_count": null,
   "id": "1a5f881d",
   "metadata": {},
   "outputs": [],
   "source": [
    "import math\n",
    "-math.log(1 / len(role_to_id), math.e)"
   ]
  },
  {
   "cell_type": "code",
   "execution_count": null,
   "id": "1a124d4f",
   "metadata": {},
   "outputs": [],
   "source": [
    "loss_function = CrossEntropyLoss(ignore_index = -100, reduction='mean')\n",
    "\n",
    "# complete this. Note that you still have to provide a (batch_size, input_pos) \n",
    "# tensor for each parameter, where batch_size =1\n",
    "\n",
    "# outputs = model(ids, mask, pred) \n",
    "# loss = loss_function(...)\n",
    "# loss.item()   #this should be approximately the score from the previous cell\n"
   ]
  },
  {
   "cell_type": "markdown",
   "id": "669a1037",
   "metadata": {},
   "source": [
    "**TODO**: At this point you should also obtain the actual predictions by taking the argmax over each position.\n",
    "The result should look something like this (values will differ).\n",
    "\n",
    "```\n",
    "tensor([[ 1,  4,  4,  4,  4,  4,  5, 29, 29, 29,  4, 28,  6, 32, 32, 32, 32, 32,\n",
    "         32, 32, 30, 30, 32, 30, 32,  4, 32, 32, 30,  4, 49,  4, 49, 32, 30,  4,\n",
    "         32,  4, 32, 32,  4,  2,  4,  4, 32,  4, 32, 32, 32, 32, 30, 32, 32, 30,\n",
    "         32,  4,  4, 49,  4,  4,  4,  4,  4,  4,  4,  4,  4,  4,  6,  6, 32, 32,\n",
    "         30, 32, 32, 32, 32, 32, 30, 30, 30, 32, 30, 49, 49, 32, 32, 30,  4,  4,\n",
    "          4,  4, 29,  4,  4,  4,  4,  4,  4, 32,  4,  4,  4, 32,  4, 30,  4, 32,\n",
    "         30,  4, 32,  4,  4,  4,  4,  4, 32,  4,  4,  4,  4,  4,  4,  4,  4,  4,\n",
    "          4,  4]], device='cuda:0')\n",
    "```\n",
    "\n",
    "Then use the id_to_role dictionary to decode to actual tokens. \n",
    "\n",
    "```\n",
    "['[CLS]', 'O', 'O', 'O', 'O', 'O', 'B-ARG0', 'I-ARG0', 'I-ARG0', 'I-ARG0', 'O', 'B-V', 'B-ARG1', 'I-ARG2', 'I-ARG2', 'I-ARG2', 'I-ARG2', 'I-ARG2', 'I-ARG2', 'I-ARG2', 'I-ARG1', 'I-ARG1', 'I-ARG2', 'I-ARG1', 'I-ARG2', 'O', 'I-ARG2', 'I-ARG2', 'I-ARG1', 'O', 'I-ARGM-TMP', 'O', 'I-ARGM-TMP', 'I-ARG2', 'I-ARG1', 'O', 'I-ARG2', 'O', 'I-ARG2', 'I-ARG2', 'O', '[SEP]', 'O', 'O', 'I-ARG2', 'O', 'I-ARG2', 'I-ARG2', 'I-ARG2', 'I-ARG2', 'I-ARG1', 'I-ARG2', 'I-ARG2', 'I-ARG1', 'I-ARG2', 'O', 'O', 'I-ARGM-TMP', 'O', 'O', 'O', 'O', 'O', 'O', 'O', 'O', 'O', 'O', 'B-ARG1', 'B-ARG1', 'I-ARG2', 'I-ARG2', 'I-ARG1', 'I-ARG2', 'I-ARG2', 'I-ARG2', 'I-ARG2', 'I-ARG2', 'I-ARG1', 'I-ARG1', 'I-ARG1', 'I-ARG2', 'I-ARG1', 'I-ARGM-TMP', 'I-ARGM-TMP', 'I-ARG2', 'I-ARG2', 'I-ARG1', 'O', 'O', 'O', 'O', 'I-ARG0', 'O', 'O', 'O', 'O', 'O', 'O', 'I-ARG2', 'O', 'O', 'O', 'I-ARG2', 'O', 'I-ARG1', 'O', 'I-ARG2', 'I-ARG1', 'O', 'I-ARG2', 'O', 'O', 'O', 'O', 'O', 'I-ARG2', 'O', 'O', 'O', 'O', 'O', 'O', 'O', 'O', 'O', 'O', 'O']\n",
    "```\n",
    "\n",
    "For now, just make sure you understand how to do this for a single example. Later, you will write a more formal function to do this once we have trained the model. "
   ]
  },
  {
   "cell_type": "code",
   "execution_count": null,
   "id": "69c2dcc0",
   "metadata": {},
   "outputs": [],
   "source": []
  },
  {
   "cell_type": "markdown",
   "id": "20d52991",
   "metadata": {},
   "source": [
    "## 3. Training loop"
   ]
  },
  {
   "cell_type": "markdown",
   "id": "edba250d",
   "metadata": {},
   "source": [
    "pytorch provides a DataLoader class that can be wrapped around a Dataset to easily use the dataset for training. The DataLoader allows us to easily adjust the batch size and shuffle the data. "
   ]
  },
  {
   "cell_type": "code",
   "execution_count": null,
   "id": "2ecd7448",
   "metadata": {},
   "outputs": [],
   "source": [
    "from torch.utils.data import DataLoader\n",
    "loader = DataLoader(data, batch_size = 32, shuffle = True)"
   ]
  },
  {
   "cell_type": "markdown",
   "id": "e7496c62",
   "metadata": {},
   "source": [
    "The following cell contains the main training loop. The code should work as written and report the loss after each batch,\n",
    "cumulative average loss after each 100 batches, and print out the final average loss after the epoch. \n",
    "\n",
    "**TODO**: Modify the training loop belowso that it also computes the accuracy for each batch and reports the \n",
    "average accuracy after the epoch. \n",
    "The accuracy is the number of correctly predicted token labels out of the number of total predictions. \n",
    "Make sure you exclude [PAD] tokens, i.e. tokens for which the target label is -100. It's okay to include [CLS] and [SEP] in the accuracy calculation. "
   ]
  },
  {
   "cell_type": "code",
   "execution_count": null,
   "id": "7a7abad9",
   "metadata": {
    "scrolled": true
   },
   "outputs": [],
   "source": [
    "loss_function = CrossEntropyLoss(ignore_index = -100, reduction='mean')\n",
    "\n",
    "LEARNING_RATE = 1e-05\n",
    "optimizer = torch.optim.AdamW(params=model.parameters(), lr=LEARNING_RATE)\n",
    "\n",
    "device = 'cuda'\n",
    "\n",
    "def train():\n",
    "    \"\"\"\n",
    "    Train the model for one epoch.\n",
    "    \"\"\"\n",
    "    tr_loss = 0 \n",
    "    nb_tr_examples, nb_tr_steps = 0, 0\n",
    "    tr_preds, tr_labels = [], []\n",
    "    # put model in training mode\n",
    "    model.train()\n",
    "    \n",
    "    for idx, batch in enumerate(loader):\n",
    "        \n",
    "        # Get the encoded data for this batch and push it to the GPU\n",
    "        ids = batch['ids'].to(device, dtype = torch.long)\n",
    "        mask = batch['mask'].to(device, dtype = torch.long)\n",
    "        targets = batch['targets'].to(device, dtype = torch.long)\n",
    "        pred_mask = batch['pred'].to(device, dtype = torch.long)\n",
    "\n",
    "        # Run the forward pass of the model\n",
    "        logits = model(input_ids=ids, attn_mask=mask, pred_indicator=pred_mask)        \n",
    "        loss = loss_function(logits.transpose(2,1), targets) \n",
    "        tr_loss += loss.item()\n",
    "        print(\"Batch loss: \", loss.item()) # can comment out if too verbose.\n",
    "        \n",
    "        nb_tr_steps += 1\n",
    "        nb_tr_examples += targets.size(0)\n",
    "        \n",
    "        if idx % 100==0:\n",
    "            #torch.cuda.empty_cache() # can help if you run into memory issues\n",
    "            curr_avg_loss = tr_loss/nb_tr_steps\n",
    "            print(f\"Current average loss: {curr_avg_loss}\")\n",
    "                   \n",
    "        # Compute accuracy for this batch\n",
    "        matching = torch.sum(torch.argmax(logits,dim=2) == targets)       \n",
    "        predictions = torch.sum(torch.where(targets==-100,0,1))\n",
    "                \n",
    "        # Run the backward pass to update parameters\n",
    "        optimizer.zero_grad()\n",
    "        loss.backward()\n",
    "        optimizer.step()\n",
    "\n",
    "    epoch_loss = tr_loss / nb_tr_steps\n",
    "    print(f\"Training loss epoch: {epoch_loss}\")"
   ]
  },
  {
   "cell_type": "markdown",
   "id": "890d12b0",
   "metadata": {},
   "source": [
    "Now let's train the model for one epoch. This will take a while (up to a few hours). "
   ]
  },
  {
   "cell_type": "code",
   "execution_count": null,
   "id": "bef88882",
   "metadata": {},
   "outputs": [],
   "source": [
    "train()"
   ]
  },
  {
   "cell_type": "markdown",
   "id": "f8507d02",
   "metadata": {},
   "source": [
    "In my experiments, I found that two epochs are needed for good performance. "
   ]
  },
  {
   "cell_type": "code",
   "execution_count": null,
   "id": "0070c530",
   "metadata": {},
   "outputs": [],
   "source": [
    "train() "
   ]
  },
  {
   "cell_type": "markdown",
   "id": "4005af14",
   "metadata": {},
   "source": [
    "I ended up with a training loss of about 0.19 and a training accuracy of 0.94. Specific values may differ. \n",
    "\n",
    "At this point, it's a good idea to save the model (or rather the parameter dictionary) so you can continue evaluating the model without having to retrain. "
   ]
  },
  {
   "cell_type": "code",
   "execution_count": null,
   "id": "542403f2",
   "metadata": {},
   "outputs": [],
   "source": [
    "torch.save(model.state_dict(), \"srl_model_fulltrain_2epoch_finetune_1e-05.pt\")"
   ]
  },
  {
   "cell_type": "markdown",
   "id": "01dc1647",
   "metadata": {},
   "source": [
    "## 4. Decoding"
   ]
  },
  {
   "cell_type": "code",
   "execution_count": null,
   "id": "44d7b2cc",
   "metadata": {},
   "outputs": [],
   "source": [
    "# Optional step: If you stopped working after part 3, first load the trained model \n",
    "\n",
    "model = SrlModel().to('cuda') \n",
    "model.load_state_dict(torch.load(\"srl_model_fulltrain_2epoch_finetune_1e-05.pt\"))\n",
    "model = model.to('cuda')"
   ]
  },
  {
   "cell_type": "markdown",
   "id": "44e07781",
   "metadata": {},
   "source": [
    "**TODO (this is the fun part)**: Now that we have a trained model, let's try labeling an unseen example sentence. Complete the functions decode_output and label_sentence below. decode_output takes the logits returned by the model, extracts the argmax to obtain the label predictions for each token, and then translate the result into a list of string labels. \n",
    "\n",
    "label_sentence takes a list of input tokens and a predicate index, prepares the model input, call the model and then call decode_output to produce a final result. \n",
    "\n",
    "Note that you have already implemented all components necessary (preparing the input data from the token list and predicate index, decoding the model output). But now you are putting it together in one convenient function. "
   ]
  },
  {
   "cell_type": "code",
   "execution_count": null,
   "id": "b72fc567",
   "metadata": {},
   "outputs": [],
   "source": [
    "tokens = \"A U. N. team spent an hour inside the hospital , where it found evident signs of shelling and gunfire .\".split()"
   ]
  },
  {
   "cell_type": "code",
   "execution_count": null,
   "id": "9026d718",
   "metadata": {},
   "outputs": [],
   "source": [
    "def decode_output(logits): # it will be useful to have this in a separate function later on\n",
    "    \"\"\"\n",
    "    Given the model output, return a list of string labels for each token. \n",
    "    \"\"\"\n",
    "    pass\n",
    "    "
   ]
  },
  {
   "cell_type": "code",
   "execution_count": null,
   "id": "76f21f29",
   "metadata": {},
   "outputs": [],
   "source": [
    "def label_sentence(tokens, pred_idx):\n",
    "    \n",
    "    # complete this function to prepare token_ids, attention mask, predicate mask, then call the model. \n",
    "    # Decode the output to produce a list of labels. \n",
    "    pass\n",
    "        "
   ]
  },
  {
   "cell_type": "code",
   "execution_count": null,
   "id": "98431b63",
   "metadata": {},
   "outputs": [],
   "source": [
    "# Now you should be able to run\n",
    "\n",
    "label_test = label_sentence(tokens, 13) # Predicate is \"found\"\n",
    "zip(tokens, label_test)"
   ]
  },
  {
   "cell_type": "markdown",
   "id": "1d6c710b",
   "metadata": {},
   "source": [
    "The expected output is somethign like this: \n",
    "```   \n",
    " ('A', 'O'),\n",
    " ('U.', 'O'),\n",
    " ('N.', 'O'),\n",
    " ('team', 'O'),\n",
    " ('spent', 'O'),\n",
    " ('an', 'O'),\n",
    " ('hour', 'O'),\n",
    " ('inside', 'O'),\n",
    " ('the', 'B-ARGM-LOC'),\n",
    " ('hospital', 'I-ARGM-LOC'),\n",
    " (',', 'O'),\n",
    " ('where', 'B-ARGM-LOC'),\n",
    " ('it', 'B-ARG0'),\n",
    " ('found', 'B-V'),\n",
    " ('evident', 'B-ARG1'),\n",
    " ('signs', 'I-ARG1'),\n",
    " ('of', 'I-ARG1'),\n",
    " ('shelling', 'I-ARG1'),\n",
    " ('and', 'I-ARG1'),\n",
    " ('gunfire', 'I-ARG1'),\n",
    " ('.', 'O'),\n",
    "```\n"
   ]
  },
  {
   "cell_type": "markdown",
   "id": "b6c0237e",
   "metadata": {},
   "source": [
    "### 5. Evaluation 1: Token-Based Accuracy\n",
    "We want to evaluate the model on the dev or test set. "
   ]
  },
  {
   "cell_type": "code",
   "execution_count": null,
   "id": "cc7aa897",
   "metadata": {},
   "outputs": [],
   "source": [
    "dev_data = SrlData(\"propbank_dev.tsv\") # Takes a while because we preprocess all data offline"
   ]
  },
  {
   "cell_type": "code",
   "execution_count": null,
   "id": "dd62569e",
   "metadata": {},
   "outputs": [],
   "source": [
    "from torch.utils.data import DataLoader\n",
    "loader = DataLoader(dev_data, batch_size = 1, shuffle = False)"
   ]
  },
  {
   "cell_type": "code",
   "execution_count": null,
   "id": "4bcb3a78",
   "metadata": {},
   "outputs": [],
   "source": [
    "# Optional: Load the model again if you stopped working prior to this step. \n",
    "# model = SrlModel()\n",
    "# model.load_state_dict(torch.load(\"srl_model_fulltrain_2epoch_finetune_1e-05.pt\"))\n",
    "# model = mode.to('cuda')"
   ]
  },
  {
   "cell_type": "markdown",
   "id": "cc8ababd",
   "metadata": {},
   "source": [
    "**TODO**: Complete the evaluate_token_accuracy function below. The function should iterate through the items in the data loader (see training loop in part 3). Run the model on each sentence/predicate pair and extract the predictions.\n",
    "\n",
    "For each sentence, count the correct predictions and the total predictions. Finally, compute the accuracy as #correct_predictions / #total_predictions\n",
    "\n",
    "Careful: You need to filter out the padded positions ([PAD] target tokens), as well as [CLS] and [SEP]. It's okay to include [B-V] in the count though. "
   ]
  },
  {
   "cell_type": "code",
   "execution_count": null,
   "id": "fa091465",
   "metadata": {},
   "outputs": [],
   "source": [
    "def evaluate_token_accuracy(model, loader):\n",
    "    \n",
    "    model.eval() # put model in evaluation mode\n",
    "    \n",
    "    # for the accuracy \n",
    "    total_correct = 0 # number of correct token label predictions. \n",
    "    total_predictions = 0 # number of total predictions = number of tokens in the data. \n",
    "    \n",
    "    # iterate over the data here. \n",
    "\n",
    "    acc = total_correct / total_predictions\n",
    "    print(f\"Accuracy: {acc}\")\n",
    "    "
   ]
  },
  {
   "cell_type": "markdown",
   "id": "9fb27239",
   "metadata": {},
   "source": [
    "### 6. Span-Based evaluation \n",
    "\n",
    "While the accuracy score in part 5 is encouraging, an accuracy-based evaluation is problematic for two reasons. First, most of the target labels are actually O. Second, it only tells us that per-token prediction works, but does not directly evaluate the SRL performance. \n",
    "\n",
    "Instead, SRL systems are typically evaluated on micro-averaged precision, recall, and F1-score for predicting labeled spans. \n",
    "\n",
    "More specifically, for each sentence/predicate input, we run the model, decode the output, and extract a set of labeled spans (from the output and the target labels). These spans are (i,j,label) tuples.  \n",
    "\n",
    "We then compute the true_positives, false_positives, and false_negatives based on these spans. \n",
    "\n",
    "In the end, we can compute \n",
    "\n",
    "* Precision:  true_positive / (true_positives + false_positives)  , that is the number of correct spans out of all predicted spans. \n",
    "\n",
    "* Recall: true_positives / (true_positives + false_negatives) , that is the number of correct spans out of all target spans. \n",
    "\n",
    "* F1-score:   (2 * precision * recall) / (precision + recall)\n",
    "\n",
    "\n",
    "For example, consider \n",
    "\n",
    "| |[CLS]|The|judge|scheduled|to|preside|over|his|trial|was|removed|from|the|case|today|.|             \n",
    "|--||---|-----|---------|--|-------|----|---|-----|---|-------|----|---|----|-----|-|             \n",
    "||0|1|2|3|4|5|6|7|8|9|1O|11|12|13|14|15|\n",
    "|target|[CLS]|B-ARG1|I-ARG1|B-V|B-ARG2|I-ARG2|I-ARG2|I-ARG2|I-ARG2|O|O|O|O|O|O|O|\n",
    "|prediction|[CLS]|B-ARG1|I-ARG1|B-V|I-ARG2|I-ARG2|O|O|O|O|O|O|O|O|B-ARGM-TMP|O|\n",
    "\n",
    "The target spans are (1,2,\"ARG1\"), and (4,8,\"ARG2\").\n",
    "\n",
    "The predicted spans would be (1,2,\"ARG1\"), (14,14,\"ARGM-TMP\"). Note that in the prediction, there is no proper ARG2 span because we are missing the B-ARG2 token, so this span should not be created. \n",
    "\n",
    "So for this sentence we woudl get: true_positives: 1 false_positives: 1 false_negatives: 1\n",
    "\n",
    "*TODO*: Complete the function evaluate_spans that performs the span-based evaluation on the given model and data loader. You can use the provided extract_spans function, which returns the spans as a dictionary. For example\n",
    "{(1,2): \"ARG1\", (4,8):\"ARG2\"} "
   ]
  },
  {
   "cell_type": "code",
   "execution_count": null,
   "id": "379cfe6a",
   "metadata": {},
   "outputs": [],
   "source": [
    "def extract_spans(labels):\n",
    "    spans = {} # map (start,end) ids to label\n",
    "    current_span_start = 0\n",
    "    current_span_type = \"\"\n",
    "    inside = False\n",
    "    for i, label in enumerate(labels):\n",
    "        if label.startswith(\"B\"):            \n",
    "            if inside: \n",
    "                if current_span_type != \"V\":\n",
    "                    spans[(current_span_start,i)] = current_span_type            \n",
    "            current_span_start = i\n",
    "            current_span_type = label[2:]\n",
    "            inside = True\n",
    "        elif inside and label.startswith(\"O\"):\n",
    "            if current_span_type != \"V\":\n",
    "                spans[(current_span_start,i)] = current_span_type\n",
    "            inside = False\n",
    "        elif inside and label.startswith(\"I\") and label[2:] != current_span_type:            \n",
    "            if current_span_type != \"V\":\n",
    "                spans[(current_span_start,i)] = current_span_type\n",
    "            inside = False\n",
    "    return spans\n",
    "                        "
   ]
  },
  {
   "cell_type": "code",
   "execution_count": null,
   "id": "1a5486ca",
   "metadata": {},
   "outputs": [],
   "source": [
    "def evaluate_spans(model, loader):\n",
    "    \n",
    "    \n",
    "    total_tp = 0\n",
    "    total_fp = 0\n",
    "    total_fn = 0\n",
    "        \n",
    "    for idx, batch in enumerate(loader):\n",
    "        \n",
    "        pass # compelte this\n",
    "    \n",
    "    \n",
    "    total_p = total_tp / (total_tp + total_fp)\n",
    "    total_r = total_tp / (total_tp + total_fn)\n",
    "    total_f = (2 * total_p *total_r) / (total_p + total_r)\n",
    "            \n",
    "    print(f\"Overall P: {total_p}  Overall R: {total_r}  Overall F1: {total_f}\")\n",
    "    \n",
    "evaluate(model, loader)    "
   ]
  },
  {
   "cell_type": "markdown",
   "id": "c0e35d04",
   "metadata": {},
   "source": [
    "In my evaluation, I got an F score of 0.82  (which slightly below the state-of-the art in 2018)"
   ]
  },
  {
   "cell_type": "markdown",
   "id": "bd94c3a2",
   "metadata": {},
   "source": [
    "### OPTIONAL: \n",
    "\n",
    "Repeat the span-based evaluation, but print out precision/recall/f1-score for each role separately."
   ]
  }
 ],
 "metadata": {
  "kernelspec": {
   "display_name": "Python 3 (ipykernel)",
   "language": "python",
   "name": "python3"
  },
  "language_info": {
   "codemirror_mode": {
    "name": "ipython",
    "version": 3
   },
   "file_extension": ".py",
   "mimetype": "text/x-python",
   "name": "python",
   "nbconvert_exporter": "python",
   "pygments_lexer": "ipython3",
   "version": "3.11.4"
  }
 },
 "nbformat": 4,
 "nbformat_minor": 5
}
